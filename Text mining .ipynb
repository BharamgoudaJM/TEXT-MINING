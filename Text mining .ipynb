{
 "cells": [
  {
   "cell_type": "code",
   "execution_count": 57,
   "id": "871b7fce",
   "metadata": {},
   "outputs": [],
   "source": [
    "import pandas as pd\n",
    "import re\n",
    "import numpy as np"
   ]
  },
  {
   "cell_type": "code",
   "execution_count": 58,
   "id": "1e366496",
   "metadata": {},
   "outputs": [
    {
     "data": {
      "text/html": [
       "<div>\n",
       "<style scoped>\n",
       "    .dataframe tbody tr th:only-of-type {\n",
       "        vertical-align: middle;\n",
       "    }\n",
       "\n",
       "    .dataframe tbody tr th {\n",
       "        vertical-align: top;\n",
       "    }\n",
       "\n",
       "    .dataframe thead th {\n",
       "        text-align: right;\n",
       "    }\n",
       "</style>\n",
       "<table border=\"1\" class=\"dataframe\">\n",
       "  <thead>\n",
       "    <tr style=\"text-align: right;\">\n",
       "      <th></th>\n",
       "      <th>Unnamed: 0</th>\n",
       "      <th>Text</th>\n",
       "    </tr>\n",
       "  </thead>\n",
       "  <tbody>\n",
       "    <tr>\n",
       "      <th>0</th>\n",
       "      <td>1</td>\n",
       "      <td>@kunalb11 Im an alien</td>\n",
       "    </tr>\n",
       "    <tr>\n",
       "      <th>1</th>\n",
       "      <td>2</td>\n",
       "      <td>@ID_AA_Carmack Ray tracing on Cyberpunk with HDR is next-level. Have you tried it?</td>\n",
       "    </tr>\n",
       "    <tr>\n",
       "      <th>2</th>\n",
       "      <td>3</td>\n",
       "      <td>@joerogan @Spotify Great interview!</td>\n",
       "    </tr>\n",
       "    <tr>\n",
       "      <th>3</th>\n",
       "      <td>4</td>\n",
       "      <td>@gtera27 Doge is underestimated</td>\n",
       "    </tr>\n",
       "    <tr>\n",
       "      <th>4</th>\n",
       "      <td>5</td>\n",
       "      <td>@teslacn Congratulations Tesla China for amazing execution last year. Now on to the next for even more!!</td>\n",
       "    </tr>\n",
       "    <tr>\n",
       "      <th>...</th>\n",
       "      <td>...</td>\n",
       "      <td>...</td>\n",
       "    </tr>\n",
       "    <tr>\n",
       "      <th>1994</th>\n",
       "      <td>1995</td>\n",
       "      <td>@flcnhvy True, it sounds so surreal, but the negative propaganda is still all out there &amp;amp; easy to find in social me",
       " https://t.co/WJRzIbKh1H</td>\n",
       "    </tr>\n",
       "    <tr>\n",
       "      <th>1995</th>\n",
       "      <td>1996</td>\n",
       "      <td>@PPathole Make sure to read ur terms &amp;amp; conditions before clicking accept!</td>\n",
       "    </tr>\n",
       "    <tr>\n",
       "      <th>1996</th>\n",
       "      <td>1997</td>\n",
       "      <td>@TeslaGong @PPathole Samwise Gamgee</td>\n",
       "    </tr>\n",
       "    <tr>\n",
       "      <th>1997</th>\n",
       "      <td>1998</td>\n",
       "      <td>@PPathole Altho Dumb and Dumber is &lt;U+0001F525&gt;&lt;U+0001F525&gt;</td>\n",
       "    </tr>\n",
       "    <tr>\n",
       "      <th>1998</th>\n",
       "      <td>1999</td>\n",
       "      <td>Progress update August 28</td>\n",
       "    </tr>\n",
       "  </tbody>\n",
       "</table>\n",
       "<p>1999 rows × 2 columns</p>\n",
       "</div>"
      ],
      "text/plain": [
       "      Unnamed: 0  \\\n",
       "0              1   \n",
       "1              2   \n",
       "2              3   \n",
       "3              4   \n",
       "4              5   \n",
       "...          ...   \n",
       "1994        1995   \n",
       "1995        1996   \n",
       "1996        1997   \n",
       "1997        1998   \n",
       "1998        1999   \n",
       "\n",
       "                                                                                                                                                  Text  \n",
       "0                                                                                                                               @kunalb11 Im an alien  \n",
       "1                                                                   @ID_AA_Carmack Ray tracing on Cyberpunk with HDR is next-level. Have you tried it?  \n",
       "2                                                                                                                  @joerogan @Spotify Great interview!  \n",
       "3                                                                                                                      @gtera27 Doge is underestimated  \n",
       "4                                             @teslacn Congratulations Tesla China for amazing execution last year. Now on to the next for even more!!  \n",
       "...                                                                                                                                                ...  \n",
       "1994  @flcnhvy True, it sounds so surreal, but the negative propaganda is still all out there &amp; easy to find in social me\n",
       " https://t.co/WJRzIbKh1H  \n",
       "1995                                                                     @PPathole Make sure to read ur terms &amp; conditions before clicking accept!  \n",
       "1996                                                                                                               @TeslaGong @PPathole Samwise Gamgee  \n",
       "1997                                                                                       @PPathole Altho Dumb and Dumber is <U+0001F525><U+0001F525>  \n",
       "1998                                                                                                                         Progress update August 28  \n",
       "\n",
       "[1999 rows x 2 columns]"
      ]
     },
     "execution_count": 58,
     "metadata": {},
     "output_type": "execute_result"
    }
   ],
   "source": [
    "EM=pd.read_csv(\"Elon_Musk.csv\", encoding=\"latin1\")\n",
    "EM"
   ]
  },
  {
   "cell_type": "code",
   "execution_count": 59,
   "id": "11a113ac",
   "metadata": {},
   "outputs": [
    {
     "data": {
      "text/html": [
       "<div>\n",
       "<style scoped>\n",
       "    .dataframe tbody tr th:only-of-type {\n",
       "        vertical-align: middle;\n",
       "    }\n",
       "\n",
       "    .dataframe tbody tr th {\n",
       "        vertical-align: top;\n",
       "    }\n",
       "\n",
       "    .dataframe thead th {\n",
       "        text-align: right;\n",
       "    }\n",
       "</style>\n",
       "<table border=\"1\" class=\"dataframe\">\n",
       "  <thead>\n",
       "    <tr style=\"text-align: right;\">\n",
       "      <th></th>\n",
       "      <th>Unnamed: 0</th>\n",
       "      <th>Text</th>\n",
       "    </tr>\n",
       "  </thead>\n",
       "  <tbody>\n",
       "    <tr>\n",
       "      <th>0</th>\n",
       "      <td>1</td>\n",
       "      <td>@kunalb11 Im an alien</td>\n",
       "    </tr>\n",
       "    <tr>\n",
       "      <th>1</th>\n",
       "      <td>2</td>\n",
       "      <td>@ID_AA_Carmack Ray tracing on Cyberpunk with HDR is next-level. Have you tried it?</td>\n",
       "    </tr>\n",
       "    <tr>\n",
       "      <th>2</th>\n",
       "      <td>3</td>\n",
       "      <td>@joerogan @Spotify Great interview!</td>\n",
       "    </tr>\n",
       "    <tr>\n",
       "      <th>3</th>\n",
       "      <td>4</td>\n",
       "      <td>@gtera27 Doge is underestimated</td>\n",
       "    </tr>\n",
       "    <tr>\n",
       "      <th>4</th>\n",
       "      <td>5</td>\n",
       "      <td>@teslacn Congratulations Tesla China for amazing execution last year. Now on to the next for even more!!</td>\n",
       "    </tr>\n",
       "  </tbody>\n",
       "</table>\n",
       "</div>"
      ],
      "text/plain": [
       "   Unnamed: 0  \\\n",
       "0           1   \n",
       "1           2   \n",
       "2           3   \n",
       "3           4   \n",
       "4           5   \n",
       "\n",
       "                                                                                                       Text  \n",
       "0                                                                                    @kunalb11 Im an alien  \n",
       "1                        @ID_AA_Carmack Ray tracing on Cyberpunk with HDR is next-level. Have you tried it?  \n",
       "2                                                                       @joerogan @Spotify Great interview!  \n",
       "3                                                                           @gtera27 Doge is underestimated  \n",
       "4  @teslacn Congratulations Tesla China for amazing execution last year. Now on to the next for even more!!  "
      ]
     },
     "execution_count": 59,
     "metadata": {},
     "output_type": "execute_result"
    }
   ],
   "source": [
    "EM.head()"
   ]
  },
  {
   "cell_type": "code",
   "execution_count": null,
   "id": "4b8ebb46",
   "metadata": {},
   "outputs": [],
   "source": []
  },
  {
   "cell_type": "markdown",
   "id": "e8b7ba55",
   "metadata": {},
   "source": [
    "# EDA"
   ]
  },
  {
   "cell_type": "code",
   "execution_count": 60,
   "id": "f30d295a",
   "metadata": {},
   "outputs": [
    {
     "name": "stdout",
     "output_type": "stream",
     "text": [
      "<class 'pandas.core.frame.DataFrame'>\n",
      "RangeIndex: 1999 entries, 0 to 1998\n",
      "Data columns (total 2 columns):\n",
      " #   Column      Non-Null Count  Dtype \n",
      "---  ------      --------------  ----- \n",
      " 0   Unnamed: 0  1999 non-null   int64 \n",
      " 1   Text        1999 non-null   object\n",
      "dtypes: int64(1), object(1)\n",
      "memory usage: 31.4+ KB\n"
     ]
    }
   ],
   "source": [
    "EM.info()"
   ]
  },
  {
   "cell_type": "code",
   "execution_count": 61,
   "id": "0da15982",
   "metadata": {},
   "outputs": [
    {
     "data": {
      "text/plain": [
       "0"
      ]
     },
     "execution_count": 61,
     "metadata": {},
     "output_type": "execute_result"
    }
   ],
   "source": [
    "EM.duplicated().sum()"
   ]
  },
  {
   "cell_type": "code",
   "execution_count": null,
   "id": "1b2350b9",
   "metadata": {},
   "outputs": [],
   "source": []
  },
  {
   "cell_type": "code",
   "execution_count": 62,
   "id": "d7c3f0ca",
   "metadata": {},
   "outputs": [
    {
     "data": {
      "text/html": [
       "<div>\n",
       "<style scoped>\n",
       "    .dataframe tbody tr th:only-of-type {\n",
       "        vertical-align: middle;\n",
       "    }\n",
       "\n",
       "    .dataframe tbody tr th {\n",
       "        vertical-align: top;\n",
       "    }\n",
       "\n",
       "    .dataframe thead th {\n",
       "        text-align: right;\n",
       "    }\n",
       "</style>\n",
       "<table border=\"1\" class=\"dataframe\">\n",
       "  <thead>\n",
       "    <tr style=\"text-align: right;\">\n",
       "      <th></th>\n",
       "      <th>Text</th>\n",
       "    </tr>\n",
       "  </thead>\n",
       "  <tbody>\n",
       "    <tr>\n",
       "      <th>0</th>\n",
       "      <td>@kunalb11 Im an alien</td>\n",
       "    </tr>\n",
       "    <tr>\n",
       "      <th>1</th>\n",
       "      <td>@ID_AA_Carmack Ray tracing on Cyberpunk with HDR is next-level. Have you tried it?</td>\n",
       "    </tr>\n",
       "    <tr>\n",
       "      <th>2</th>\n",
       "      <td>@joerogan @Spotify Great interview!</td>\n",
       "    </tr>\n",
       "    <tr>\n",
       "      <th>3</th>\n",
       "      <td>@gtera27 Doge is underestimated</td>\n",
       "    </tr>\n",
       "    <tr>\n",
       "      <th>4</th>\n",
       "      <td>@teslacn Congratulations Tesla China for amazing execution last year. Now on to the next for even more!!</td>\n",
       "    </tr>\n",
       "    <tr>\n",
       "      <th>...</th>\n",
       "      <td>...</td>\n",
       "    </tr>\n",
       "    <tr>\n",
       "      <th>1994</th>\n",
       "      <td>@flcnhvy True, it sounds so surreal, but the negative propaganda is still all out there &amp;amp; easy to find in social me",
       " https://t.co/WJRzIbKh1H</td>\n",
       "    </tr>\n",
       "    <tr>\n",
       "      <th>1995</th>\n",
       "      <td>@PPathole Make sure to read ur terms &amp;amp; conditions before clicking accept!</td>\n",
       "    </tr>\n",
       "    <tr>\n",
       "      <th>1996</th>\n",
       "      <td>@TeslaGong @PPathole Samwise Gamgee</td>\n",
       "    </tr>\n",
       "    <tr>\n",
       "      <th>1997</th>\n",
       "      <td>@PPathole Altho Dumb and Dumber is &lt;U+0001F525&gt;&lt;U+0001F525&gt;</td>\n",
       "    </tr>\n",
       "    <tr>\n",
       "      <th>1998</th>\n",
       "      <td>Progress update August 28</td>\n",
       "    </tr>\n",
       "  </tbody>\n",
       "</table>\n",
       "<p>1999 rows × 1 columns</p>\n",
       "</div>"
      ],
      "text/plain": [
       "                                                                                                                                                  Text\n",
       "0                                                                                                                               @kunalb11 Im an alien\n",
       "1                                                                   @ID_AA_Carmack Ray tracing on Cyberpunk with HDR is next-level. Have you tried it?\n",
       "2                                                                                                                  @joerogan @Spotify Great interview!\n",
       "3                                                                                                                      @gtera27 Doge is underestimated\n",
       "4                                             @teslacn Congratulations Tesla China for amazing execution last year. Now on to the next for even more!!\n",
       "...                                                                                                                                                ...\n",
       "1994  @flcnhvy True, it sounds so surreal, but the negative propaganda is still all out there &amp; easy to find in social me\n",
       " https://t.co/WJRzIbKh1H\n",
       "1995                                                                     @PPathole Make sure to read ur terms &amp; conditions before clicking accept!\n",
       "1996                                                                                                               @TeslaGong @PPathole Samwise Gamgee\n",
       "1997                                                                                       @PPathole Altho Dumb and Dumber is <U+0001F525><U+0001F525>\n",
       "1998                                                                                                                         Progress update August 28\n",
       "\n",
       "[1999 rows x 1 columns]"
      ]
     },
     "execution_count": 62,
     "metadata": {},
     "output_type": "execute_result"
    }
   ],
   "source": [
    "EM2=EM.drop(columns=('Unnamed: 0'),axis=1)\n",
    "EM2"
   ]
  },
  {
   "cell_type": "markdown",
   "id": "d35336e0",
   "metadata": {},
   "source": [
    "# PreProcessing"
   ]
  },
  {
   "cell_type": "markdown",
   "id": "df9440b5",
   "metadata": {},
   "source": [
    "# Step 1 : Removing spaces and symbol"
   ]
  },
  {
   "cell_type": "code",
   "execution_count": 63,
   "id": "44ed3df7",
   "metadata": {},
   "outputs": [
    {
     "data": {
      "text/html": [
       "<div>\n",
       "<style scoped>\n",
       "    .dataframe tbody tr th:only-of-type {\n",
       "        vertical-align: middle;\n",
       "    }\n",
       "\n",
       "    .dataframe tbody tr th {\n",
       "        vertical-align: top;\n",
       "    }\n",
       "\n",
       "    .dataframe thead th {\n",
       "        text-align: right;\n",
       "    }\n",
       "</style>\n",
       "<table border=\"1\" class=\"dataframe\">\n",
       "  <thead>\n",
       "    <tr style=\"text-align: right;\">\n",
       "      <th></th>\n",
       "      <th>Unnamed: 0</th>\n",
       "      <th>Text</th>\n",
       "    </tr>\n",
       "  </thead>\n",
       "  <tbody>\n",
       "    <tr>\n",
       "      <th>0</th>\n",
       "      <td>1</td>\n",
       "      <td>kunalb Im an alien</td>\n",
       "    </tr>\n",
       "    <tr>\n",
       "      <th>1</th>\n",
       "      <td>2</td>\n",
       "      <td>IDAACarmack Ray tracing on Cyberpunk with HDR is nextlevel Have you tried it</td>\n",
       "    </tr>\n",
       "    <tr>\n",
       "      <th>2</th>\n",
       "      <td>3</td>\n",
       "      <td>joerogan Spotify Great interview</td>\n",
       "    </tr>\n",
       "    <tr>\n",
       "      <th>3</th>\n",
       "      <td>4</td>\n",
       "      <td>gtera Doge is underestimated</td>\n",
       "    </tr>\n",
       "    <tr>\n",
       "      <th>4</th>\n",
       "      <td>5</td>\n",
       "      <td>teslacn Congratulations Tesla China for amazing execution last year Now on to the next for even more</td>\n",
       "    </tr>\n",
       "    <tr>\n",
       "      <th>...</th>\n",
       "      <td>...</td>\n",
       "      <td>...</td>\n",
       "    </tr>\n",
       "    <tr>\n",
       "      <th>1994</th>\n",
       "      <td>1995</td>\n",
       "      <td>flcnhvy True it sounds so surreal but the negative propaganda is still all out there amp easy to find in social me httpstcoWJRzIbKhH</td>\n",
       "    </tr>\n",
       "    <tr>\n",
       "      <th>1995</th>\n",
       "      <td>1996</td>\n",
       "      <td>PPathole Make sure to read ur terms amp conditions before clicking accept</td>\n",
       "    </tr>\n",
       "    <tr>\n",
       "      <th>1996</th>\n",
       "      <td>1997</td>\n",
       "      <td>TeslaGong PPathole Samwise Gamgee</td>\n",
       "    </tr>\n",
       "    <tr>\n",
       "      <th>1997</th>\n",
       "      <td>1998</td>\n",
       "      <td>PPathole Altho Dumb and Dumber is UFUF</td>\n",
       "    </tr>\n",
       "    <tr>\n",
       "      <th>1998</th>\n",
       "      <td>1999</td>\n",
       "      <td>Progress update August</td>\n",
       "    </tr>\n",
       "  </tbody>\n",
       "</table>\n",
       "<p>1999 rows × 2 columns</p>\n",
       "</div>"
      ],
      "text/plain": [
       "      Unnamed: 0  \\\n",
       "0              1   \n",
       "1              2   \n",
       "2              3   \n",
       "3              4   \n",
       "4              5   \n",
       "...          ...   \n",
       "1994        1995   \n",
       "1995        1996   \n",
       "1996        1997   \n",
       "1997        1998   \n",
       "1998        1999   \n",
       "\n",
       "                                                                                                                                      Text  \n",
       "0                                                                                                                       kunalb Im an alien  \n",
       "1                                                             IDAACarmack Ray tracing on Cyberpunk with HDR is nextlevel Have you tried it  \n",
       "2                                                                                                         joerogan Spotify Great interview  \n",
       "3                                                                                                             gtera Doge is underestimated  \n",
       "4                                     teslacn Congratulations Tesla China for amazing execution last year Now on to the next for even more  \n",
       "...                                                                                                                                    ...  \n",
       "1994  flcnhvy True it sounds so surreal but the negative propaganda is still all out there amp easy to find in social me httpstcoWJRzIbKhH  \n",
       "1995                                                             PPathole Make sure to read ur terms amp conditions before clicking accept  \n",
       "1996                                                                                                     TeslaGong PPathole Samwise Gamgee  \n",
       "1997                                                                                                PPathole Altho Dumb and Dumber is UFUF  \n",
       "1998                                                                                                               Progress update August   \n",
       "\n",
       "[1999 rows x 2 columns]"
      ]
     },
     "execution_count": 63,
     "metadata": {},
     "output_type": "execute_result"
    }
   ],
   "source": [
    "EM.Text=EM.Text.apply(lambda x: re.sub('[^a-zA-Z ]', \"\", x))\n",
    "EM"
   ]
  },
  {
   "cell_type": "markdown",
   "id": "4b5891af",
   "metadata": {},
   "source": [
    "# Step - 2 : Make text to lower"
   ]
  },
  {
   "cell_type": "code",
   "execution_count": 64,
   "id": "1d6645ee",
   "metadata": {},
   "outputs": [
    {
     "data": {
      "text/html": [
       "<div>\n",
       "<style scoped>\n",
       "    .dataframe tbody tr th:only-of-type {\n",
       "        vertical-align: middle;\n",
       "    }\n",
       "\n",
       "    .dataframe tbody tr th {\n",
       "        vertical-align: top;\n",
       "    }\n",
       "\n",
       "    .dataframe thead th {\n",
       "        text-align: right;\n",
       "    }\n",
       "</style>\n",
       "<table border=\"1\" class=\"dataframe\">\n",
       "  <thead>\n",
       "    <tr style=\"text-align: right;\">\n",
       "      <th></th>\n",
       "      <th>Unnamed: 0</th>\n",
       "      <th>Text</th>\n",
       "    </tr>\n",
       "  </thead>\n",
       "  <tbody>\n",
       "    <tr>\n",
       "      <th>0</th>\n",
       "      <td>1</td>\n",
       "      <td>kunalb im an alien</td>\n",
       "    </tr>\n",
       "    <tr>\n",
       "      <th>1</th>\n",
       "      <td>2</td>\n",
       "      <td>idaacarmack ray tracing on cyberpunk with hdr is nextlevel have you tried it</td>\n",
       "    </tr>\n",
       "    <tr>\n",
       "      <th>2</th>\n",
       "      <td>3</td>\n",
       "      <td>joerogan spotify great interview</td>\n",
       "    </tr>\n",
       "    <tr>\n",
       "      <th>3</th>\n",
       "      <td>4</td>\n",
       "      <td>gtera doge is underestimated</td>\n",
       "    </tr>\n",
       "    <tr>\n",
       "      <th>4</th>\n",
       "      <td>5</td>\n",
       "      <td>teslacn congratulations tesla china for amazing execution last year now on to the next for even more</td>\n",
       "    </tr>\n",
       "    <tr>\n",
       "      <th>...</th>\n",
       "      <td>...</td>\n",
       "      <td>...</td>\n",
       "    </tr>\n",
       "    <tr>\n",
       "      <th>1994</th>\n",
       "      <td>1995</td>\n",
       "      <td>flcnhvy true it sounds so surreal but the negative propaganda is still all out there amp easy to find in social me httpstcowjrzibkhh</td>\n",
       "    </tr>\n",
       "    <tr>\n",
       "      <th>1995</th>\n",
       "      <td>1996</td>\n",
       "      <td>ppathole make sure to read ur terms amp conditions before clicking accept</td>\n",
       "    </tr>\n",
       "    <tr>\n",
       "      <th>1996</th>\n",
       "      <td>1997</td>\n",
       "      <td>teslagong ppathole samwise gamgee</td>\n",
       "    </tr>\n",
       "    <tr>\n",
       "      <th>1997</th>\n",
       "      <td>1998</td>\n",
       "      <td>ppathole altho dumb and dumber is ufuf</td>\n",
       "    </tr>\n",
       "    <tr>\n",
       "      <th>1998</th>\n",
       "      <td>1999</td>\n",
       "      <td>progress update august</td>\n",
       "    </tr>\n",
       "  </tbody>\n",
       "</table>\n",
       "<p>1999 rows × 2 columns</p>\n",
       "</div>"
      ],
      "text/plain": [
       "      Unnamed: 0  \\\n",
       "0              1   \n",
       "1              2   \n",
       "2              3   \n",
       "3              4   \n",
       "4              5   \n",
       "...          ...   \n",
       "1994        1995   \n",
       "1995        1996   \n",
       "1996        1997   \n",
       "1997        1998   \n",
       "1998        1999   \n",
       "\n",
       "                                                                                                                                      Text  \n",
       "0                                                                                                                       kunalb im an alien  \n",
       "1                                                             idaacarmack ray tracing on cyberpunk with hdr is nextlevel have you tried it  \n",
       "2                                                                                                         joerogan spotify great interview  \n",
       "3                                                                                                             gtera doge is underestimated  \n",
       "4                                     teslacn congratulations tesla china for amazing execution last year now on to the next for even more  \n",
       "...                                                                                                                                    ...  \n",
       "1994  flcnhvy true it sounds so surreal but the negative propaganda is still all out there amp easy to find in social me httpstcowjrzibkhh  \n",
       "1995                                                             ppathole make sure to read ur terms amp conditions before clicking accept  \n",
       "1996                                                                                                     teslagong ppathole samwise gamgee  \n",
       "1997                                                                                                ppathole altho dumb and dumber is ufuf  \n",
       "1998                                                                                                               progress update august   \n",
       "\n",
       "[1999 rows x 2 columns]"
      ]
     },
     "execution_count": 64,
     "metadata": {},
     "output_type": "execute_result"
    }
   ],
   "source": [
    "EM.Text=EM.Text.apply(lambda x: x.lower())\n",
    "EM"
   ]
  },
  {
   "cell_type": "markdown",
   "id": "93797eba",
   "metadata": {},
   "source": [
    "# Step 3:- Splitting the words from line"
   ]
  },
  {
   "cell_type": "code",
   "execution_count": 65,
   "id": "6ed5a2e0",
   "metadata": {},
   "outputs": [
    {
     "data": {
      "text/html": [
       "<div>\n",
       "<style scoped>\n",
       "    .dataframe tbody tr th:only-of-type {\n",
       "        vertical-align: middle;\n",
       "    }\n",
       "\n",
       "    .dataframe tbody tr th {\n",
       "        vertical-align: top;\n",
       "    }\n",
       "\n",
       "    .dataframe thead th {\n",
       "        text-align: right;\n",
       "    }\n",
       "</style>\n",
       "<table border=\"1\" class=\"dataframe\">\n",
       "  <thead>\n",
       "    <tr style=\"text-align: right;\">\n",
       "      <th></th>\n",
       "      <th>Unnamed: 0</th>\n",
       "      <th>Text</th>\n",
       "    </tr>\n",
       "  </thead>\n",
       "  <tbody>\n",
       "    <tr>\n",
       "      <th>0</th>\n",
       "      <td>1</td>\n",
       "      <td>[kunalb, im, an, alien]</td>\n",
       "    </tr>\n",
       "    <tr>\n",
       "      <th>1</th>\n",
       "      <td>2</td>\n",
       "      <td>[idaacarmack, ray, tracing, on, cyberpunk, with, hdr, is, nextlevel, have, you, tried, it]</td>\n",
       "    </tr>\n",
       "    <tr>\n",
       "      <th>2</th>\n",
       "      <td>3</td>\n",
       "      <td>[joerogan, spotify, great, interview]</td>\n",
       "    </tr>\n",
       "    <tr>\n",
       "      <th>3</th>\n",
       "      <td>4</td>\n",
       "      <td>[gtera, doge, is, underestimated]</td>\n",
       "    </tr>\n",
       "    <tr>\n",
       "      <th>4</th>\n",
       "      <td>5</td>\n",
       "      <td>[teslacn, congratulations, tesla, china, for, amazing, execution, last, year, now, on, to, the, next, for, even, more]</td>\n",
       "    </tr>\n",
       "    <tr>\n",
       "      <th>...</th>\n",
       "      <td>...</td>\n",
       "      <td>...</td>\n",
       "    </tr>\n",
       "    <tr>\n",
       "      <th>1994</th>\n",
       "      <td>1995</td>\n",
       "      <td>[flcnhvy, true, it, sounds, so, surreal, but, the, negative, propaganda, is, still, all, out, there, amp, easy, to, find, in, social, me, httpstcowjrzibkhh]</td>\n",
       "    </tr>\n",
       "    <tr>\n",
       "      <th>1995</th>\n",
       "      <td>1996</td>\n",
       "      <td>[ppathole, make, sure, to, read, ur, terms, amp, conditions, before, clicking, accept]</td>\n",
       "    </tr>\n",
       "    <tr>\n",
       "      <th>1996</th>\n",
       "      <td>1997</td>\n",
       "      <td>[teslagong, ppathole, samwise, gamgee]</td>\n",
       "    </tr>\n",
       "    <tr>\n",
       "      <th>1997</th>\n",
       "      <td>1998</td>\n",
       "      <td>[ppathole, altho, dumb, and, dumber, is, ufuf]</td>\n",
       "    </tr>\n",
       "    <tr>\n",
       "      <th>1998</th>\n",
       "      <td>1999</td>\n",
       "      <td>[progress, update, august]</td>\n",
       "    </tr>\n",
       "  </tbody>\n",
       "</table>\n",
       "<p>1999 rows × 2 columns</p>\n",
       "</div>"
      ],
      "text/plain": [
       "      Unnamed: 0  \\\n",
       "0              1   \n",
       "1              2   \n",
       "2              3   \n",
       "3              4   \n",
       "4              5   \n",
       "...          ...   \n",
       "1994        1995   \n",
       "1995        1996   \n",
       "1996        1997   \n",
       "1997        1998   \n",
       "1998        1999   \n",
       "\n",
       "                                                                                                                                                              Text  \n",
       "0                                                                                                                                          [kunalb, im, an, alien]  \n",
       "1                                                                       [idaacarmack, ray, tracing, on, cyberpunk, with, hdr, is, nextlevel, have, you, tried, it]  \n",
       "2                                                                                                                            [joerogan, spotify, great, interview]  \n",
       "3                                                                                                                                [gtera, doge, is, underestimated]  \n",
       "4                                           [teslacn, congratulations, tesla, china, for, amazing, execution, last, year, now, on, to, the, next, for, even, more]  \n",
       "...                                                                                                                                                            ...  \n",
       "1994  [flcnhvy, true, it, sounds, so, surreal, but, the, negative, propaganda, is, still, all, out, there, amp, easy, to, find, in, social, me, httpstcowjrzibkhh]  \n",
       "1995                                                                        [ppathole, make, sure, to, read, ur, terms, amp, conditions, before, clicking, accept]  \n",
       "1996                                                                                                                        [teslagong, ppathole, samwise, gamgee]  \n",
       "1997                                                                                                                [ppathole, altho, dumb, and, dumber, is, ufuf]  \n",
       "1998                                                                                                                                    [progress, update, august]  \n",
       "\n",
       "[1999 rows x 2 columns]"
      ]
     },
     "execution_count": 65,
     "metadata": {},
     "output_type": "execute_result"
    }
   ],
   "source": [
    "EM.Text=EM.Text.apply(lambda x: x.split())\n",
    "EM"
   ]
  },
  {
   "cell_type": "code",
   "execution_count": null,
   "id": "b936fb2a",
   "metadata": {},
   "outputs": [],
   "source": []
  },
  {
   "cell_type": "markdown",
   "id": "4d3245f4",
   "metadata": {},
   "source": [
    "# Step 4 :- Removing Stopwords"
   ]
  },
  {
   "cell_type": "code",
   "execution_count": 66,
   "id": "765af4cf",
   "metadata": {},
   "outputs": [
    {
     "name": "stderr",
     "output_type": "stream",
     "text": [
      "[nltk_data] Downloading package stopwords to\n",
      "[nltk_data]     C:\\Users\\91767\\AppData\\Roaming\\nltk_data...\n",
      "[nltk_data]   Package stopwords is already up-to-date!\n"
     ]
    }
   ],
   "source": [
    "import nltk\n",
    "nltk.download('stopwords')\n",
    "from nltk.corpus import stopwords\n",
    "from nltk.stem.porter import PorterStemmer"
   ]
  },
  {
   "cell_type": "code",
   "execution_count": 67,
   "id": "878341ae",
   "metadata": {},
   "outputs": [
    {
     "name": "stderr",
     "output_type": "stream",
     "text": [
      "[nltk_data] Downloading package stopwords to\n",
      "[nltk_data]     C:\\Users\\91767\\AppData\\Roaming\\nltk_data...\n",
      "[nltk_data]   Package stopwords is already up-to-date!\n"
     ]
    },
    {
     "data": {
      "text/plain": [
       "True"
      ]
     },
     "execution_count": 67,
     "metadata": {},
     "output_type": "execute_result"
    }
   ],
   "source": [
    "nltk.download('stopwords')"
   ]
  },
  {
   "cell_type": "code",
   "execution_count": 68,
   "id": "51538211",
   "metadata": {},
   "outputs": [
    {
     "data": {
      "text/html": [
       "<div>\n",
       "<style scoped>\n",
       "    .dataframe tbody tr th:only-of-type {\n",
       "        vertical-align: middle;\n",
       "    }\n",
       "\n",
       "    .dataframe tbody tr th {\n",
       "        vertical-align: top;\n",
       "    }\n",
       "\n",
       "    .dataframe thead th {\n",
       "        text-align: right;\n",
       "    }\n",
       "</style>\n",
       "<table border=\"1\" class=\"dataframe\">\n",
       "  <thead>\n",
       "    <tr style=\"text-align: right;\">\n",
       "      <th></th>\n",
       "      <th>Unnamed: 0</th>\n",
       "      <th>Text</th>\n",
       "    </tr>\n",
       "  </thead>\n",
       "  <tbody>\n",
       "    <tr>\n",
       "      <th>0</th>\n",
       "      <td>1</td>\n",
       "      <td>[kunalb, im, alien]</td>\n",
       "    </tr>\n",
       "    <tr>\n",
       "      <th>1</th>\n",
       "      <td>2</td>\n",
       "      <td>[idaacarmack, ray, tracing, cyberpunk, hdr, nextlevel, tried]</td>\n",
       "    </tr>\n",
       "    <tr>\n",
       "      <th>2</th>\n",
       "      <td>3</td>\n",
       "      <td>[joerogan, spotify, great, interview]</td>\n",
       "    </tr>\n",
       "    <tr>\n",
       "      <th>3</th>\n",
       "      <td>4</td>\n",
       "      <td>[gtera, doge, underestimated]</td>\n",
       "    </tr>\n",
       "    <tr>\n",
       "      <th>4</th>\n",
       "      <td>5</td>\n",
       "      <td>[teslacn, congratulations, tesla, china, amazing, execution, last, year, next, even]</td>\n",
       "    </tr>\n",
       "    <tr>\n",
       "      <th>...</th>\n",
       "      <td>...</td>\n",
       "      <td>...</td>\n",
       "    </tr>\n",
       "    <tr>\n",
       "      <th>1994</th>\n",
       "      <td>1995</td>\n",
       "      <td>[flcnhvy, true, sounds, surreal, negative, propaganda, still, amp, easy, find, social, httpstcowjrzibkhh]</td>\n",
       "    </tr>\n",
       "    <tr>\n",
       "      <th>1995</th>\n",
       "      <td>1996</td>\n",
       "      <td>[ppathole, make, sure, read, ur, terms, amp, conditions, clicking, accept]</td>\n",
       "    </tr>\n",
       "    <tr>\n",
       "      <th>1996</th>\n",
       "      <td>1997</td>\n",
       "      <td>[teslagong, ppathole, samwise, gamgee]</td>\n",
       "    </tr>\n",
       "    <tr>\n",
       "      <th>1997</th>\n",
       "      <td>1998</td>\n",
       "      <td>[ppathole, altho, dumb, dumber, ufuf]</td>\n",
       "    </tr>\n",
       "    <tr>\n",
       "      <th>1998</th>\n",
       "      <td>1999</td>\n",
       "      <td>[progress, update, august]</td>\n",
       "    </tr>\n",
       "  </tbody>\n",
       "</table>\n",
       "<p>1999 rows × 2 columns</p>\n",
       "</div>"
      ],
      "text/plain": [
       "      Unnamed: 0  \\\n",
       "0              1   \n",
       "1              2   \n",
       "2              3   \n",
       "3              4   \n",
       "4              5   \n",
       "...          ...   \n",
       "1994        1995   \n",
       "1995        1996   \n",
       "1996        1997   \n",
       "1997        1998   \n",
       "1998        1999   \n",
       "\n",
       "                                                                                                           Text  \n",
       "0                                                                                           [kunalb, im, alien]  \n",
       "1                                                 [idaacarmack, ray, tracing, cyberpunk, hdr, nextlevel, tried]  \n",
       "2                                                                         [joerogan, spotify, great, interview]  \n",
       "3                                                                                 [gtera, doge, underestimated]  \n",
       "4                          [teslacn, congratulations, tesla, china, amazing, execution, last, year, next, even]  \n",
       "...                                                                                                         ...  \n",
       "1994  [flcnhvy, true, sounds, surreal, negative, propaganda, still, amp, easy, find, social, httpstcowjrzibkhh]  \n",
       "1995                                 [ppathole, make, sure, read, ur, terms, amp, conditions, clicking, accept]  \n",
       "1996                                                                     [teslagong, ppathole, samwise, gamgee]  \n",
       "1997                                                                      [ppathole, altho, dumb, dumber, ufuf]  \n",
       "1998                                                                                 [progress, update, august]  \n",
       "\n",
       "[1999 rows x 2 columns]"
      ]
     },
     "execution_count": 68,
     "metadata": {},
     "output_type": "execute_result"
    }
   ],
   "source": [
    "EM.Text=EM.Text.apply(lambda x: [word  for word in x if word not in set(stopwords.words('english'))])\n",
    "EM"
   ]
  },
  {
   "cell_type": "code",
   "execution_count": 69,
   "id": "0b6beb21",
   "metadata": {},
   "outputs": [
    {
     "data": {
      "text/plain": [
       "['i',\n",
       " 'me',\n",
       " 'my',\n",
       " 'myself',\n",
       " 'we',\n",
       " 'our',\n",
       " 'ours',\n",
       " 'ourselves',\n",
       " 'you',\n",
       " \"you're\",\n",
       " \"you've\",\n",
       " \"you'll\",\n",
       " \"you'd\",\n",
       " 'your',\n",
       " 'yours',\n",
       " 'yourself',\n",
       " 'yourselves',\n",
       " 'he',\n",
       " 'him',\n",
       " 'his',\n",
       " 'himself',\n",
       " 'she',\n",
       " \"she's\",\n",
       " 'her',\n",
       " 'hers',\n",
       " 'herself',\n",
       " 'it',\n",
       " \"it's\",\n",
       " 'its',\n",
       " 'itself',\n",
       " 'they',\n",
       " 'them',\n",
       " 'their',\n",
       " 'theirs',\n",
       " 'themselves',\n",
       " 'what',\n",
       " 'which',\n",
       " 'who',\n",
       " 'whom',\n",
       " 'this',\n",
       " 'that',\n",
       " \"that'll\",\n",
       " 'these',\n",
       " 'those',\n",
       " 'am',\n",
       " 'is',\n",
       " 'are',\n",
       " 'was',\n",
       " 'were',\n",
       " 'be',\n",
       " 'been',\n",
       " 'being',\n",
       " 'have',\n",
       " 'has',\n",
       " 'had',\n",
       " 'having',\n",
       " 'do',\n",
       " 'does',\n",
       " 'did',\n",
       " 'doing',\n",
       " 'a',\n",
       " 'an',\n",
       " 'the',\n",
       " 'and',\n",
       " 'but',\n",
       " 'if',\n",
       " 'or',\n",
       " 'because',\n",
       " 'as',\n",
       " 'until',\n",
       " 'while',\n",
       " 'of',\n",
       " 'at',\n",
       " 'by',\n",
       " 'for',\n",
       " 'with',\n",
       " 'about',\n",
       " 'against',\n",
       " 'between',\n",
       " 'into',\n",
       " 'through',\n",
       " 'during',\n",
       " 'before',\n",
       " 'after',\n",
       " 'above',\n",
       " 'below',\n",
       " 'to',\n",
       " 'from',\n",
       " 'up',\n",
       " 'down',\n",
       " 'in',\n",
       " 'out',\n",
       " 'on',\n",
       " 'off',\n",
       " 'over',\n",
       " 'under',\n",
       " 'again',\n",
       " 'further',\n",
       " 'then',\n",
       " 'once',\n",
       " 'here',\n",
       " 'there',\n",
       " 'when',\n",
       " 'where',\n",
       " 'why',\n",
       " 'how',\n",
       " 'all',\n",
       " 'any',\n",
       " 'both',\n",
       " 'each',\n",
       " 'few',\n",
       " 'more',\n",
       " 'most',\n",
       " 'other',\n",
       " 'some',\n",
       " 'such',\n",
       " 'no',\n",
       " 'nor',\n",
       " 'not',\n",
       " 'only',\n",
       " 'own',\n",
       " 'same',\n",
       " 'so',\n",
       " 'than',\n",
       " 'too',\n",
       " 'very',\n",
       " 's',\n",
       " 't',\n",
       " 'can',\n",
       " 'will',\n",
       " 'just',\n",
       " 'don',\n",
       " \"don't\",\n",
       " 'should',\n",
       " \"should've\",\n",
       " 'now',\n",
       " 'd',\n",
       " 'll',\n",
       " 'm',\n",
       " 'o',\n",
       " 're',\n",
       " 've',\n",
       " 'y',\n",
       " 'ain',\n",
       " 'aren',\n",
       " \"aren't\",\n",
       " 'couldn',\n",
       " \"couldn't\",\n",
       " 'didn',\n",
       " \"didn't\",\n",
       " 'doesn',\n",
       " \"doesn't\",\n",
       " 'hadn',\n",
       " \"hadn't\",\n",
       " 'hasn',\n",
       " \"hasn't\",\n",
       " 'haven',\n",
       " \"haven't\",\n",
       " 'isn',\n",
       " \"isn't\",\n",
       " 'ma',\n",
       " 'mightn',\n",
       " \"mightn't\",\n",
       " 'mustn',\n",
       " \"mustn't\",\n",
       " 'needn',\n",
       " \"needn't\",\n",
       " 'shan',\n",
       " \"shan't\",\n",
       " 'shouldn',\n",
       " \"shouldn't\",\n",
       " 'wasn',\n",
       " \"wasn't\",\n",
       " 'weren',\n",
       " \"weren't\",\n",
       " 'won',\n",
       " \"won't\",\n",
       " 'wouldn',\n",
       " \"wouldn't\"]"
      ]
     },
     "execution_count": 69,
     "metadata": {},
     "output_type": "execute_result"
    }
   ],
   "source": [
    "stopwords.words(\"english\")"
   ]
  },
  {
   "cell_type": "markdown",
   "id": "6c97fb31",
   "metadata": {},
   "source": [
    "# Step 5:- Stemming"
   ]
  },
  {
   "cell_type": "code",
   "execution_count": 70,
   "id": "21d98fcf",
   "metadata": {},
   "outputs": [],
   "source": [
    "ps=PorterStemmer()\n",
    "EM.Text=EM.Text.apply(lambda x: [ps.stem(word) for word in x])"
   ]
  },
  {
   "cell_type": "code",
   "execution_count": 71,
   "id": "702921d0",
   "metadata": {},
   "outputs": [
    {
     "data": {
      "text/html": [
       "<div>\n",
       "<style scoped>\n",
       "    .dataframe tbody tr th:only-of-type {\n",
       "        vertical-align: middle;\n",
       "    }\n",
       "\n",
       "    .dataframe tbody tr th {\n",
       "        vertical-align: top;\n",
       "    }\n",
       "\n",
       "    .dataframe thead th {\n",
       "        text-align: right;\n",
       "    }\n",
       "</style>\n",
       "<table border=\"1\" class=\"dataframe\">\n",
       "  <thead>\n",
       "    <tr style=\"text-align: right;\">\n",
       "      <th></th>\n",
       "      <th>Unnamed: 0</th>\n",
       "      <th>Text</th>\n",
       "    </tr>\n",
       "  </thead>\n",
       "  <tbody>\n",
       "    <tr>\n",
       "      <th>0</th>\n",
       "      <td>1</td>\n",
       "      <td>[kunalb, im, alien]</td>\n",
       "    </tr>\n",
       "    <tr>\n",
       "      <th>1</th>\n",
       "      <td>2</td>\n",
       "      <td>[idaacarmack, ray, trace, cyberpunk, hdr, nextlevel, tri]</td>\n",
       "    </tr>\n",
       "    <tr>\n",
       "      <th>2</th>\n",
       "      <td>3</td>\n",
       "      <td>[joerogan, spotifi, great, interview]</td>\n",
       "    </tr>\n",
       "    <tr>\n",
       "      <th>3</th>\n",
       "      <td>4</td>\n",
       "      <td>[gtera, doge, underestim]</td>\n",
       "    </tr>\n",
       "    <tr>\n",
       "      <th>4</th>\n",
       "      <td>5</td>\n",
       "      <td>[teslacn, congratul, tesla, china, amaz, execut, last, year, next, even]</td>\n",
       "    </tr>\n",
       "    <tr>\n",
       "      <th>...</th>\n",
       "      <td>...</td>\n",
       "      <td>...</td>\n",
       "    </tr>\n",
       "    <tr>\n",
       "      <th>1994</th>\n",
       "      <td>1995</td>\n",
       "      <td>[flcnhvi, true, sound, surreal, neg, propaganda, still, amp, easi, find, social, httpstcowjrzibkhh]</td>\n",
       "    </tr>\n",
       "    <tr>\n",
       "      <th>1995</th>\n",
       "      <td>1996</td>\n",
       "      <td>[ppathol, make, sure, read, ur, term, amp, condit, click, accept]</td>\n",
       "    </tr>\n",
       "    <tr>\n",
       "      <th>1996</th>\n",
       "      <td>1997</td>\n",
       "      <td>[teslagong, ppathol, samwis, gamge]</td>\n",
       "    </tr>\n",
       "    <tr>\n",
       "      <th>1997</th>\n",
       "      <td>1998</td>\n",
       "      <td>[ppathol, altho, dumb, dumber, ufuf]</td>\n",
       "    </tr>\n",
       "    <tr>\n",
       "      <th>1998</th>\n",
       "      <td>1999</td>\n",
       "      <td>[progress, updat, august]</td>\n",
       "    </tr>\n",
       "  </tbody>\n",
       "</table>\n",
       "<p>1999 rows × 2 columns</p>\n",
       "</div>"
      ],
      "text/plain": [
       "      Unnamed: 0  \\\n",
       "0              1   \n",
       "1              2   \n",
       "2              3   \n",
       "3              4   \n",
       "4              5   \n",
       "...          ...   \n",
       "1994        1995   \n",
       "1995        1996   \n",
       "1996        1997   \n",
       "1997        1998   \n",
       "1998        1999   \n",
       "\n",
       "                                                                                                     Text  \n",
       "0                                                                                     [kunalb, im, alien]  \n",
       "1                                               [idaacarmack, ray, trace, cyberpunk, hdr, nextlevel, tri]  \n",
       "2                                                                   [joerogan, spotifi, great, interview]  \n",
       "3                                                                               [gtera, doge, underestim]  \n",
       "4                                [teslacn, congratul, tesla, china, amaz, execut, last, year, next, even]  \n",
       "...                                                                                                   ...  \n",
       "1994  [flcnhvi, true, sound, surreal, neg, propaganda, still, amp, easi, find, social, httpstcowjrzibkhh]  \n",
       "1995                                    [ppathol, make, sure, read, ur, term, amp, condit, click, accept]  \n",
       "1996                                                                  [teslagong, ppathol, samwis, gamge]  \n",
       "1997                                                                 [ppathol, altho, dumb, dumber, ufuf]  \n",
       "1998                                                                            [progress, updat, august]  \n",
       "\n",
       "[1999 rows x 2 columns]"
      ]
     },
     "execution_count": 71,
     "metadata": {},
     "output_type": "execute_result"
    }
   ],
   "source": [
    "EM"
   ]
  },
  {
   "cell_type": "markdown",
   "id": "5b8a4d19",
   "metadata": {},
   "source": [
    "# Step 6 :- Rejoining"
   ]
  },
  {
   "cell_type": "code",
   "execution_count": 72,
   "id": "68001ee3",
   "metadata": {},
   "outputs": [],
   "source": [
    "EM.Text=EM.Text.apply(lambda x: \" \".join(x))"
   ]
  },
  {
   "cell_type": "code",
   "execution_count": 73,
   "id": "b073fd26",
   "metadata": {},
   "outputs": [
    {
     "data": {
      "text/html": [
       "<div>\n",
       "<style scoped>\n",
       "    .dataframe tbody tr th:only-of-type {\n",
       "        vertical-align: middle;\n",
       "    }\n",
       "\n",
       "    .dataframe tbody tr th {\n",
       "        vertical-align: top;\n",
       "    }\n",
       "\n",
       "    .dataframe thead th {\n",
       "        text-align: right;\n",
       "    }\n",
       "</style>\n",
       "<table border=\"1\" class=\"dataframe\">\n",
       "  <thead>\n",
       "    <tr style=\"text-align: right;\">\n",
       "      <th></th>\n",
       "      <th>Unnamed: 0</th>\n",
       "      <th>Text</th>\n",
       "    </tr>\n",
       "  </thead>\n",
       "  <tbody>\n",
       "    <tr>\n",
       "      <th>0</th>\n",
       "      <td>1</td>\n",
       "      <td>kunalb im alien</td>\n",
       "    </tr>\n",
       "    <tr>\n",
       "      <th>1</th>\n",
       "      <td>2</td>\n",
       "      <td>idaacarmack ray trace cyberpunk hdr nextlevel tri</td>\n",
       "    </tr>\n",
       "    <tr>\n",
       "      <th>2</th>\n",
       "      <td>3</td>\n",
       "      <td>joerogan spotifi great interview</td>\n",
       "    </tr>\n",
       "    <tr>\n",
       "      <th>3</th>\n",
       "      <td>4</td>\n",
       "      <td>gtera doge underestim</td>\n",
       "    </tr>\n",
       "    <tr>\n",
       "      <th>4</th>\n",
       "      <td>5</td>\n",
       "      <td>teslacn congratul tesla china amaz execut last year next even</td>\n",
       "    </tr>\n",
       "    <tr>\n",
       "      <th>...</th>\n",
       "      <td>...</td>\n",
       "      <td>...</td>\n",
       "    </tr>\n",
       "    <tr>\n",
       "      <th>1994</th>\n",
       "      <td>1995</td>\n",
       "      <td>flcnhvi true sound surreal neg propaganda still amp easi find social httpstcowjrzibkhh</td>\n",
       "    </tr>\n",
       "    <tr>\n",
       "      <th>1995</th>\n",
       "      <td>1996</td>\n",
       "      <td>ppathol make sure read ur term amp condit click accept</td>\n",
       "    </tr>\n",
       "    <tr>\n",
       "      <th>1996</th>\n",
       "      <td>1997</td>\n",
       "      <td>teslagong ppathol samwis gamge</td>\n",
       "    </tr>\n",
       "    <tr>\n",
       "      <th>1997</th>\n",
       "      <td>1998</td>\n",
       "      <td>ppathol altho dumb dumber ufuf</td>\n",
       "    </tr>\n",
       "    <tr>\n",
       "      <th>1998</th>\n",
       "      <td>1999</td>\n",
       "      <td>progress updat august</td>\n",
       "    </tr>\n",
       "  </tbody>\n",
       "</table>\n",
       "<p>1999 rows × 2 columns</p>\n",
       "</div>"
      ],
      "text/plain": [
       "      Unnamed: 0  \\\n",
       "0              1   \n",
       "1              2   \n",
       "2              3   \n",
       "3              4   \n",
       "4              5   \n",
       "...          ...   \n",
       "1994        1995   \n",
       "1995        1996   \n",
       "1996        1997   \n",
       "1997        1998   \n",
       "1998        1999   \n",
       "\n",
       "                                                                                        Text  \n",
       "0                                                                            kunalb im alien  \n",
       "1                                          idaacarmack ray trace cyberpunk hdr nextlevel tri  \n",
       "2                                                           joerogan spotifi great interview  \n",
       "3                                                                      gtera doge underestim  \n",
       "4                              teslacn congratul tesla china amaz execut last year next even  \n",
       "...                                                                                      ...  \n",
       "1994  flcnhvi true sound surreal neg propaganda still amp easi find social httpstcowjrzibkhh  \n",
       "1995                                  ppathol make sure read ur term amp condit click accept  \n",
       "1996                                                          teslagong ppathol samwis gamge  \n",
       "1997                                                          ppathol altho dumb dumber ufuf  \n",
       "1998                                                                   progress updat august  \n",
       "\n",
       "[1999 rows x 2 columns]"
      ]
     },
     "execution_count": 73,
     "metadata": {},
     "output_type": "execute_result"
    }
   ],
   "source": [
    "EM"
   ]
  },
  {
   "cell_type": "markdown",
   "id": "0738f2b8",
   "metadata": {},
   "source": [
    "# Sentimental Analysis"
   ]
  },
  {
   "cell_type": "code",
   "execution_count": 74,
   "id": "9b08b41b",
   "metadata": {},
   "outputs": [
    {
     "name": "stdout",
     "output_type": "stream",
     "text": [
      "Requirement already satisfied: textblob in c:\\users\\91767\\anaconda3\\lib\\site-packages (0.17.1)\n",
      "Requirement already satisfied: nltk>=3.1 in c:\\users\\91767\\anaconda3\\lib\\site-packages (from textblob) (3.7)\n",
      "Requirement already satisfied: joblib in c:\\users\\91767\\anaconda3\\lib\\site-packages (from nltk>=3.1->textblob) (1.1.0)\n",
      "Requirement already satisfied: regex>=2021.8.3 in c:\\users\\91767\\anaconda3\\lib\\site-packages (from nltk>=3.1->textblob) (2022.7.9)\n",
      "Requirement already satisfied: click in c:\\users\\91767\\anaconda3\\lib\\site-packages (from nltk>=3.1->textblob) (8.0.4)\n",
      "Requirement already satisfied: tqdm in c:\\users\\91767\\anaconda3\\lib\\site-packages (from nltk>=3.1->textblob) (4.64.1)\n",
      "Requirement already satisfied: colorama in c:\\users\\91767\\anaconda3\\lib\\site-packages (from click->nltk>=3.1->textblob) (0.4.5)\n",
      "Note: you may need to restart the kernel to use updated packages.\n"
     ]
    }
   ],
   "source": [
    "pip install -U textblob"
   ]
  },
  {
   "cell_type": "code",
   "execution_count": 75,
   "id": "8b6b0c36",
   "metadata": {},
   "outputs": [],
   "source": [
    "from textblob import TextBlob"
   ]
  },
  {
   "cell_type": "code",
   "execution_count": 76,
   "id": "e3ef544a",
   "metadata": {},
   "outputs": [
    {
     "data": {
      "text/html": [
       "<div>\n",
       "<style scoped>\n",
       "    .dataframe tbody tr th:only-of-type {\n",
       "        vertical-align: middle;\n",
       "    }\n",
       "\n",
       "    .dataframe tbody tr th {\n",
       "        vertical-align: top;\n",
       "    }\n",
       "\n",
       "    .dataframe thead th {\n",
       "        text-align: right;\n",
       "    }\n",
       "</style>\n",
       "<table border=\"1\" class=\"dataframe\">\n",
       "  <thead>\n",
       "    <tr style=\"text-align: right;\">\n",
       "      <th></th>\n",
       "      <th>Text</th>\n",
       "      <th>sentiment</th>\n",
       "    </tr>\n",
       "  </thead>\n",
       "  <tbody>\n",
       "    <tr>\n",
       "      <th>0</th>\n",
       "      <td>kunalb im alien</td>\n",
       "      <td>-0.25</td>\n",
       "    </tr>\n",
       "    <tr>\n",
       "      <th>1</th>\n",
       "      <td>idaacarmack ray trace cyberpunk hdr nextlevel tri</td>\n",
       "      <td>0.00</td>\n",
       "    </tr>\n",
       "    <tr>\n",
       "      <th>2</th>\n",
       "      <td>joerogan spotifi great interview</td>\n",
       "      <td>0.80</td>\n",
       "    </tr>\n",
       "    <tr>\n",
       "      <th>3</th>\n",
       "      <td>gtera doge underestim</td>\n",
       "      <td>0.00</td>\n",
       "    </tr>\n",
       "    <tr>\n",
       "      <th>4</th>\n",
       "      <td>teslacn congratul tesla china amaz execut last year next even</td>\n",
       "      <td>0.00</td>\n",
       "    </tr>\n",
       "  </tbody>\n",
       "</table>\n",
       "</div>"
      ],
      "text/plain": [
       "                                                            Text  sentiment\n",
       "0                                                kunalb im alien      -0.25\n",
       "1              idaacarmack ray trace cyberpunk hdr nextlevel tri       0.00\n",
       "2                               joerogan spotifi great interview       0.80\n",
       "3                                          gtera doge underestim       0.00\n",
       "4  teslacn congratul tesla china amaz execut last year next even       0.00"
      ]
     },
     "execution_count": 76,
     "metadata": {},
     "output_type": "execute_result"
    }
   ],
   "source": [
    "EM['sentiment']=EM['Text'].apply(lambda x: TextBlob(x).sentiment[0])\n",
    "EM[['Text','sentiment']].head()"
   ]
  },
  {
   "cell_type": "markdown",
   "id": "03a15ca7",
   "metadata": {},
   "source": [
    "# Problem Statement - 2"
   ]
  },
  {
   "cell_type": "markdown",
   "id": "8b27288c",
   "metadata": {},
   "source": [
    "1) Extract reviews of any product from ecommerce website like amazon\n",
    "\n",
    "2) Perform emotion mining"
   ]
  },
  {
   "cell_type": "markdown",
   "id": "4d2e5538",
   "metadata": {},
   "source": [
    "# Scraping reviews using BeautifulSoup"
   ]
  },
  {
   "cell_type": "code",
   "execution_count": 77,
   "id": "da6af5cf",
   "metadata": {},
   "outputs": [],
   "source": [
    "link='https://www.amazon.in/www.amazon.in-%E2%80%BA-Echo-show-5-Smart-speaker-with-5.5-screen-and-Alexa/product-reviews/B08KGVYX6F/ref=cm_cr_dp_d_show_all_btm?ie=UTF8&reviewerType=all_reviews'"
   ]
  },
  {
   "cell_type": "code",
   "execution_count": 78,
   "id": "d43c051f",
   "metadata": {},
   "outputs": [],
   "source": [
    "import requests\n",
    "from bs4 import BeautifulSoup\n",
    "import seaborn as sns\n",
    "import matplotlib.pyplot as plt"
   ]
  },
  {
   "cell_type": "code",
   "execution_count": 79,
   "id": "f8f92f22",
   "metadata": {},
   "outputs": [
    {
     "name": "stdout",
     "output_type": "stream",
     "text": [
      "https://www.amazon.in/www.amazon.in-%E2%80%BA-Echo-show-5-Smart-speaker-with-5.5-screen-and-Alexa/product-reviews/B08KGVYX6F/ref=cm_cr_dp_d_show_all_btm?ie=UTF8&reviewerType=all_reviews&pageNumber=0\n",
      "https://www.amazon.in/www.amazon.in-%E2%80%BA-Echo-show-5-Smart-speaker-with-5.5-screen-and-Alexa/product-reviews/B08KGVYX6F/ref=cm_cr_dp_d_show_all_btm?ie=UTF8&reviewerType=all_reviews&pageNumber=1\n",
      "https://www.amazon.in/www.amazon.in-%E2%80%BA-Echo-show-5-Smart-speaker-with-5.5-screen-and-Alexa/product-reviews/B08KGVYX6F/ref=cm_cr_dp_d_show_all_btm?ie=UTF8&reviewerType=all_reviews&pageNumber=2\n",
      "https://www.amazon.in/www.amazon.in-%E2%80%BA-Echo-show-5-Smart-speaker-with-5.5-screen-and-Alexa/product-reviews/B08KGVYX6F/ref=cm_cr_dp_d_show_all_btm?ie=UTF8&reviewerType=all_reviews&pageNumber=3\n",
      "https://www.amazon.in/www.amazon.in-%E2%80%BA-Echo-show-5-Smart-speaker-with-5.5-screen-and-Alexa/product-reviews/B08KGVYX6F/ref=cm_cr_dp_d_show_all_btm?ie=UTF8&reviewerType=all_reviews&pageNumber=4\n",
      "https://www.amazon.in/www.amazon.in-%E2%80%BA-Echo-show-5-Smart-speaker-with-5.5-screen-and-Alexa/product-reviews/B08KGVYX6F/ref=cm_cr_dp_d_show_all_btm?ie=UTF8&reviewerType=all_reviews&pageNumber=5\n"
     ]
    }
   ],
   "source": [
    "## Getting reviews of first five pages\n",
    "review_list=[]\n",
    "\n",
    "for k in range(0,6):\n",
    "    review_link=link+'&pageNumber='+str(k)\n",
    "    print(review_link)\n",
    "    page=requests.get(review_link)\n",
    "    soup=BeautifulSoup(page.content,'html.parser')\n",
    "    reviews=soup.find_all('span',class_='review-text-content')\n",
    "    \n",
    "    for i in range(0,len(reviews)):\n",
    "        \n",
    "        review_list.append(reviews[i].get_text().strip())"
   ]
  },
  {
   "cell_type": "code",
   "execution_count": 80,
   "id": "9d4723f5",
   "metadata": {},
   "outputs": [
    {
     "data": {
      "text/plain": [
       "['Microphones on Echo Show are NOT sensitive as Echo Dot. Even response has a bit dealy. Echo Dot is super sensitve and great response. I brought 5 Echo dots and 1 Echo Show. Well timed on Geat India sale 2022. Now my home is fully automated.',\n",
       " 'Its ok just for entertainment',\n",
       " 'Good stuff',\n",
       " \"Doesn't connect to all devices as advertised\",\n",
       " 'It has been about 1.5 years since I m having this and from a few months back, she is having voice recognition problems. She does not listen to “ALEXA” not even at top of my voice. I changed the wake word as well but still facing the issue. Has contacted to the Amazon customer care number but they told me to wait for sometime and then just hung up. That’s not good Amazon',\n",
       " 'its only been a couple of months since i have purchased this product...but recently i have been facing an issue ...its voice recognision is not workin properly....if its a software issue pls provide an update or kindly provide support',\n",
       " \"It's a nice little echo device to place on your work desk or bedside. Really sharp display and nice touch screen,  although the processing itself is rather slow.  When you select things on the screen it takes a moment to respond. It's not an echo that you want to listen music on (show 10 is much better for that), as the speaker is rather tinny. However, its great to control smart devices,  set alarm/timers and ofcourse...use as a clock.My experience didn't start well though as i got a used piece. The box had been opened and then taped back, the product inside had been used as well since the touch screen was covered in greasy fingerprints. It worked fine and didn't have scratches so didn't bother to return.\",\n",
       " 'The media could not be loaded.\\n                \\n\\n\\n\\n\\xa0Working only screen... No sound,  kindly provide service center',\n",
       " 'Too small screen. Smaller than a standard mobile phone. I returned this and bought a echo show 8 which is really good.',\n",
       " 'Not working now. I think have a software issue.Can you please send someone to check.It would be nice if you could help me to fix the issue.Thanks']"
      ]
     },
     "execution_count": 80,
     "metadata": {},
     "output_type": "execute_result"
    }
   ],
   "source": [
    "review_list"
   ]
  },
  {
   "cell_type": "code",
   "execution_count": 81,
   "id": "9bca821b",
   "metadata": {},
   "outputs": [
    {
     "data": {
      "text/plain": [
       "10"
      ]
     },
     "execution_count": 81,
     "metadata": {},
     "output_type": "execute_result"
    }
   ],
   "source": [
    "len(review_list)"
   ]
  },
  {
   "cell_type": "code",
   "execution_count": 82,
   "id": "4d90f225",
   "metadata": {},
   "outputs": [
    {
     "data": {
      "text/html": [
       "<div>\n",
       "<style scoped>\n",
       "    .dataframe tbody tr th:only-of-type {\n",
       "        vertical-align: middle;\n",
       "    }\n",
       "\n",
       "    .dataframe tbody tr th {\n",
       "        vertical-align: top;\n",
       "    }\n",
       "\n",
       "    .dataframe thead th {\n",
       "        text-align: right;\n",
       "    }\n",
       "</style>\n",
       "<table border=\"1\" class=\"dataframe\">\n",
       "  <thead>\n",
       "    <tr style=\"text-align: right;\">\n",
       "      <th></th>\n",
       "      <th>Reviews</th>\n",
       "    </tr>\n",
       "  </thead>\n",
       "  <tbody>\n",
       "    <tr>\n",
       "      <th>0</th>\n",
       "      <td>Microphones on Echo Show are NOT sensitive as Echo Dot. Even response has a bit dealy. Echo Dot is super sensitve and great response. I brought 5 Echo dots and 1 Echo Show. Well timed on Geat India sale 2022. Now my home is fully automated.</td>\n",
       "    </tr>\n",
       "    <tr>\n",
       "      <th>1</th>\n",
       "      <td>Its ok just for entertainment</td>\n",
       "    </tr>\n",
       "    <tr>\n",
       "      <th>2</th>\n",
       "      <td>Good stuff</td>\n",
       "    </tr>\n",
       "    <tr>\n",
       "      <th>3</th>\n",
       "      <td>Doesn't connect to all devices as advertised</td>\n",
       "    </tr>\n",
       "    <tr>\n",
       "      <th>4</th>\n",
       "      <td>It has been about 1.5 years since I m having this and from a few months back, she is having voice recognition problems. She does not listen to “ALEXA” not even at top of my voice. I changed the wake word as well but still facing the issue. Has contacted to the Amazon customer care number but they told me to wait for sometime and then just hung up. That’s not good Amazon</td>\n",
       "    </tr>\n",
       "    <tr>\n",
       "      <th>5</th>\n",
       "      <td>its only been a couple of months since i have purchased this product...but recently i have been facing an issue ...its voice recognision is not workin properly....if its a software issue pls provide an update or kindly provide support</td>\n",
       "    </tr>\n",
       "    <tr>\n",
       "      <th>6</th>\n",
       "      <td>It's a nice little echo device to place on your work desk or bedside. Really sharp display and nice touch screen,  although the processing itself is rather slow.  When you select things on the screen it takes a moment to respond. It's not an echo that you want to listen music on (show 10 is much better for that), as the speaker is rather tinny. However, its great to control smart devices,  set alarm/timers and ofcourse...use as a clock.My experience didn't start well though as i got a used piece. The box had been opened and then taped back, the product inside had been used as well since the touch screen was covered in greasy fingerprints. It worked fine and didn't have scratches so didn't bother to return.</td>\n",
       "    </tr>\n",
       "    <tr>\n",
       "      <th>7</th>\n",
       "      <td>The media could not be loaded.\\n                \\n\\n\\n\\n Working only screen... No sound,  kindly provide service center</td>\n",
       "    </tr>\n",
       "    <tr>\n",
       "      <th>8</th>\n",
       "      <td>Too small screen. Smaller than a standard mobile phone. I returned this and bought a echo show 8 which is really good.</td>\n",
       "    </tr>\n",
       "    <tr>\n",
       "      <th>9</th>\n",
       "      <td>Not working now. I think have a software issue.Can you please send someone to check.It would be nice if you could help me to fix the issue.Thanks</td>\n",
       "    </tr>\n",
       "  </tbody>\n",
       "</table>\n",
       "</div>"
      ],
      "text/plain": [
       "                                                                                                                                                                                                                                                                                                                                                                                                                                                                                                                                                                                                                                                                                                                                       Reviews\n",
       "0                                                                                                                                                                                                                                                                                                                                                                                                                                                                                             Microphones on Echo Show are NOT sensitive as Echo Dot. Even response has a bit dealy. Echo Dot is super sensitve and great response. I brought 5 Echo dots and 1 Echo Show. Well timed on Geat India sale 2022. Now my home is fully automated.\n",
       "1                                                                                                                                                                                                                                                                                                                                                                                                                                                                                                                                                                                                                                                                                                                Its ok just for entertainment\n",
       "2                                                                                                                                                                                                                                                                                                                                                                                                                                                                                                                                                                                                                                                                                                                                   Good stuff\n",
       "3                                                                                                                                                                                                                                                                                                                                                                                                                                                                                                                                                                                                                                                                                                 Doesn't connect to all devices as advertised\n",
       "4                                                                                                                                                                                                                                                                                                                                                         It has been about 1.5 years since I m having this and from a few months back, she is having voice recognition problems. She does not listen to “ALEXA” not even at top of my voice. I changed the wake word as well but still facing the issue. Has contacted to the Amazon customer care number but they told me to wait for sometime and then just hung up. That’s not good Amazon\n",
       "5                                                                                                                                                                                                                                                                                                                                                                                                                                                                                                   its only been a couple of months since i have purchased this product...but recently i have been facing an issue ...its voice recognision is not workin properly....if its a software issue pls provide an update or kindly provide support\n",
       "6  It's a nice little echo device to place on your work desk or bedside. Really sharp display and nice touch screen,  although the processing itself is rather slow.  When you select things on the screen it takes a moment to respond. It's not an echo that you want to listen music on (show 10 is much better for that), as the speaker is rather tinny. However, its great to control smart devices,  set alarm/timers and ofcourse...use as a clock.My experience didn't start well though as i got a used piece. The box had been opened and then taped back, the product inside had been used as well since the touch screen was covered in greasy fingerprints. It worked fine and didn't have scratches so didn't bother to return.\n",
       "7                                                                                                                                                                                                                                                                                                                                                                                                                                                                                                                                                                                                                     The media could not be loaded.\\n                \\n\\n\\n\\n Working only screen... No sound,  kindly provide service center\n",
       "8                                                                                                                                                                                                                                                                                                                                                                                                                                                                                                                                                                                                                       Too small screen. Smaller than a standard mobile phone. I returned this and bought a echo show 8 which is really good.\n",
       "9                                                                                                                                                                                                                                                                                                                                                                                                                                                                                                                                                                                            Not working now. I think have a software issue.Can you please send someone to check.It would be nice if you could help me to fix the issue.Thanks"
      ]
     },
     "execution_count": 82,
     "metadata": {},
     "output_type": "execute_result"
    }
   ],
   "source": [
    "df=pd.DataFrame({'Reviews':review_list})\n",
    "pd.set_option('max_colwidth', 800)\n",
    "df"
   ]
  },
  {
   "cell_type": "markdown",
   "id": "3584e412",
   "metadata": {},
   "source": [
    "# Text preprocessing"
   ]
  },
  {
   "cell_type": "code",
   "execution_count": 83,
   "id": "c13011ab",
   "metadata": {},
   "outputs": [
    {
     "data": {
      "text/html": [
       "<div>\n",
       "<style scoped>\n",
       "    .dataframe tbody tr th:only-of-type {\n",
       "        vertical-align: middle;\n",
       "    }\n",
       "\n",
       "    .dataframe tbody tr th {\n",
       "        vertical-align: top;\n",
       "    }\n",
       "\n",
       "    .dataframe thead th {\n",
       "        text-align: right;\n",
       "    }\n",
       "</style>\n",
       "<table border=\"1\" class=\"dataframe\">\n",
       "  <thead>\n",
       "    <tr style=\"text-align: right;\">\n",
       "      <th></th>\n",
       "      <th>Reviews</th>\n",
       "      <th>cleaned_reviews</th>\n",
       "    </tr>\n",
       "  </thead>\n",
       "  <tbody>\n",
       "    <tr>\n",
       "      <th>0</th>\n",
       "      <td>Microphones on Echo Show are NOT sensitive as Echo Dot. Even response has a bit dealy. Echo Dot is super sensitve and great response. I brought 5 Echo dots and 1 Echo Show. Well timed on Geat India sale 2022. Now my home is fully automated.</td>\n",
       "      <td>microphones on echo show are not sensitive as echo dot. even response has a bit dealy. echo dot is super sensitve and great response. i brought 5 echo dots and 1 echo show. well timed on geat india sale 2022. now my home is fully automated.</td>\n",
       "    </tr>\n",
       "    <tr>\n",
       "      <th>1</th>\n",
       "      <td>Its ok just for entertainment</td>\n",
       "      <td>its ok just for entertainment</td>\n",
       "    </tr>\n",
       "    <tr>\n",
       "      <th>2</th>\n",
       "      <td>Good stuff</td>\n",
       "      <td>good stuff</td>\n",
       "    </tr>\n",
       "    <tr>\n",
       "      <th>3</th>\n",
       "      <td>Doesn't connect to all devices as advertised</td>\n",
       "      <td>doesn't connect to all devices as advertised</td>\n",
       "    </tr>\n",
       "    <tr>\n",
       "      <th>4</th>\n",
       "      <td>It has been about 1.5 years since I m having this and from a few months back, she is having voice recognition problems. She does not listen to “ALEXA” not even at top of my voice. I changed the wake word as well but still facing the issue. Has contacted to the Amazon customer care number but they told me to wait for sometime and then just hung up. That’s not good Amazon</td>\n",
       "      <td>it has been about 1.5 years since i m having this and from a few months back, she is having voice recognition problems. she does not listen to “alexa” not even at top of my voice. i changed the wake word as well but still facing the issue. has contacted to the amazon customer care number but they told me to wait for sometime and then just hung up. that’s not good amazon</td>\n",
       "    </tr>\n",
       "  </tbody>\n",
       "</table>\n",
       "</div>"
      ],
      "text/plain": [
       "                                                                                                                                                                                                                                                                                                                                                                                Reviews  \\\n",
       "0                                                                                                                                      Microphones on Echo Show are NOT sensitive as Echo Dot. Even response has a bit dealy. Echo Dot is super sensitve and great response. I brought 5 Echo dots and 1 Echo Show. Well timed on Geat India sale 2022. Now my home is fully automated.   \n",
       "1                                                                                                                                                                                                                                                                                                                                                         Its ok just for entertainment   \n",
       "2                                                                                                                                                                                                                                                                                                                                                                            Good stuff   \n",
       "3                                                                                                                                                                                                                                                                                                                                          Doesn't connect to all devices as advertised   \n",
       "4  It has been about 1.5 years since I m having this and from a few months back, she is having voice recognition problems. She does not listen to “ALEXA” not even at top of my voice. I changed the wake word as well but still facing the issue. Has contacted to the Amazon customer care number but they told me to wait for sometime and then just hung up. That’s not good Amazon   \n",
       "\n",
       "                                                                                                                                                                                                                                                                                                                                                                        cleaned_reviews  \n",
       "0                                                                                                                                      microphones on echo show are not sensitive as echo dot. even response has a bit dealy. echo dot is super sensitve and great response. i brought 5 echo dots and 1 echo show. well timed on geat india sale 2022. now my home is fully automated.  \n",
       "1                                                                                                                                                                                                                                                                                                                                                         its ok just for entertainment  \n",
       "2                                                                                                                                                                                                                                                                                                                                                                            good stuff  \n",
       "3                                                                                                                                                                                                                                                                                                                                          doesn't connect to all devices as advertised  \n",
       "4  it has been about 1.5 years since i m having this and from a few months back, she is having voice recognition problems. she does not listen to “alexa” not even at top of my voice. i changed the wake word as well but still facing the issue. has contacted to the amazon customer care number but they told me to wait for sometime and then just hung up. that’s not good amazon  "
      ]
     },
     "execution_count": 83,
     "metadata": {},
     "output_type": "execute_result"
    }
   ],
   "source": [
    "## Converting to lower case\n",
    "\n",
    "df['cleaned_reviews']=[x.lower()for x in df.Reviews]\n",
    "df.head()"
   ]
  },
  {
   "cell_type": "code",
   "execution_count": 84,
   "id": "c3f3e60f",
   "metadata": {},
   "outputs": [
    {
     "data": {
      "text/html": [
       "<div>\n",
       "<style scoped>\n",
       "    .dataframe tbody tr th:only-of-type {\n",
       "        vertical-align: middle;\n",
       "    }\n",
       "\n",
       "    .dataframe tbody tr th {\n",
       "        vertical-align: top;\n",
       "    }\n",
       "\n",
       "    .dataframe thead th {\n",
       "        text-align: right;\n",
       "    }\n",
       "</style>\n",
       "<table border=\"1\" class=\"dataframe\">\n",
       "  <thead>\n",
       "    <tr style=\"text-align: right;\">\n",
       "      <th></th>\n",
       "      <th>Reviews</th>\n",
       "      <th>cleaned_reviews</th>\n",
       "    </tr>\n",
       "  </thead>\n",
       "  <tbody>\n",
       "    <tr>\n",
       "      <th>0</th>\n",
       "      <td>Microphones on Echo Show are NOT sensitive as Echo Dot. Even response has a bit dealy. Echo Dot is super sensitve and great response. I brought 5 Echo dots and 1 Echo Show. Well timed on Geat India sale 2022. Now my home is fully automated.</td>\n",
       "      <td>microphones on echo show are not sensitive as echo dot even response has a bit dealy echo dot is super sensitve and great response i brought  echo dots and  echo show well timed on geat india sale  now my home is fully automated</td>\n",
       "    </tr>\n",
       "    <tr>\n",
       "      <th>1</th>\n",
       "      <td>Its ok just for entertainment</td>\n",
       "      <td>its ok just for entertainment</td>\n",
       "    </tr>\n",
       "    <tr>\n",
       "      <th>2</th>\n",
       "      <td>Good stuff</td>\n",
       "      <td>good stuff</td>\n",
       "    </tr>\n",
       "    <tr>\n",
       "      <th>3</th>\n",
       "      <td>Doesn't connect to all devices as advertised</td>\n",
       "      <td>doesnt connect to all devices as advertised</td>\n",
       "    </tr>\n",
       "    <tr>\n",
       "      <th>4</th>\n",
       "      <td>It has been about 1.5 years since I m having this and from a few months back, she is having voice recognition problems. She does not listen to “ALEXA” not even at top of my voice. I changed the wake word as well but still facing the issue. Has contacted to the Amazon customer care number but they told me to wait for sometime and then just hung up. That’s not good Amazon</td>\n",
       "      <td>it has been about  years since i m having this and from a few months back she is having voice recognition problems she does not listen to alexa not even at top of my voice i changed the wake word as well but still facing the issue has contacted to the amazon customer care number but they told me to wait for sometime and then just hung up thats not good amazon</td>\n",
       "    </tr>\n",
       "  </tbody>\n",
       "</table>\n",
       "</div>"
      ],
      "text/plain": [
       "                                                                                                                                                                                                                                                                                                                                                                                Reviews  \\\n",
       "0                                                                                                                                      Microphones on Echo Show are NOT sensitive as Echo Dot. Even response has a bit dealy. Echo Dot is super sensitve and great response. I brought 5 Echo dots and 1 Echo Show. Well timed on Geat India sale 2022. Now my home is fully automated.   \n",
       "1                                                                                                                                                                                                                                                                                                                                                         Its ok just for entertainment   \n",
       "2                                                                                                                                                                                                                                                                                                                                                                            Good stuff   \n",
       "3                                                                                                                                                                                                                                                                                                                                          Doesn't connect to all devices as advertised   \n",
       "4  It has been about 1.5 years since I m having this and from a few months back, she is having voice recognition problems. She does not listen to “ALEXA” not even at top of my voice. I changed the wake word as well but still facing the issue. Has contacted to the Amazon customer care number but they told me to wait for sometime and then just hung up. That’s not good Amazon   \n",
       "\n",
       "                                                                                                                                                                                                                                                                                                                                                             cleaned_reviews  \n",
       "0                                                                                                                                       microphones on echo show are not sensitive as echo dot even response has a bit dealy echo dot is super sensitve and great response i brought  echo dots and  echo show well timed on geat india sale  now my home is fully automated  \n",
       "1                                                                                                                                                                                                                                                                                                                                              its ok just for entertainment  \n",
       "2                                                                                                                                                                                                                                                                                                                                                                 good stuff  \n",
       "3                                                                                                                                                                                                                                                                                                                                doesnt connect to all devices as advertised  \n",
       "4  it has been about  years since i m having this and from a few months back she is having voice recognition problems she does not listen to alexa not even at top of my voice i changed the wake word as well but still facing the issue has contacted to the amazon customer care number but they told me to wait for sometime and then just hung up thats not good amazon  "
      ]
     },
     "execution_count": 84,
     "metadata": {},
     "output_type": "execute_result"
    }
   ],
   "source": [
    "## Removing numbers and special characters\n",
    "df['cleaned_reviews']=[re.sub('[^A-Za-z ]+', '',x)for x in df['cleaned_reviews']]\n",
    "df.head()"
   ]
  },
  {
   "cell_type": "code",
   "execution_count": 85,
   "id": "73196ad1",
   "metadata": {},
   "outputs": [],
   "source": [
    "## Removing stopwords\n",
    "\n",
    "df['cleaned_reviews'] = df['cleaned_reviews'].apply(lambda x: ' '.join([item for item in x.split() if item not in stopwords.words('english')]))\n"
   ]
  },
  {
   "cell_type": "markdown",
   "id": "926e0c15",
   "metadata": {},
   "source": [
    "# Generating WordCloud"
   ]
  },
  {
   "cell_type": "code",
   "execution_count": 86,
   "id": "94bbfe10",
   "metadata": {},
   "outputs": [],
   "source": [
    "import seaborn as sns\n",
    "import matplotlib.pyplot as plt"
   ]
  },
  {
   "cell_type": "code",
   "execution_count": 87,
   "id": "e739a1fa",
   "metadata": {},
   "outputs": [
    {
     "name": "stdout",
     "output_type": "stream",
     "text": [
      "Requirement already satisfied: wordcloud in c:\\users\\91767\\anaconda3\\lib\\site-packages (1.8.2.2)\n",
      "Requirement already satisfied: pillow in c:\\users\\91767\\anaconda3\\lib\\site-packages (from wordcloud) (9.2.0)\n",
      "Requirement already satisfied: numpy>=1.6.1 in c:\\users\\91767\\anaconda3\\lib\\site-packages (from wordcloud) (1.21.5)\n",
      "Requirement already satisfied: matplotlib in c:\\users\\91767\\anaconda3\\lib\\site-packages (from wordcloud) (3.5.2)\n",
      "Requirement already satisfied: packaging>=20.0 in c:\\users\\91767\\anaconda3\\lib\\site-packages (from matplotlib->wordcloud) (21.3)\n",
      "Requirement already satisfied: kiwisolver>=1.0.1 in c:\\users\\91767\\anaconda3\\lib\\site-packages (from matplotlib->wordcloud) (1.4.2)\n",
      "Requirement already satisfied: cycler>=0.10 in c:\\users\\91767\\anaconda3\\lib\\site-packages (from matplotlib->wordcloud) (0.11.0)\n",
      "Requirement already satisfied: pyparsing>=2.2.1 in c:\\users\\91767\\anaconda3\\lib\\site-packages (from matplotlib->wordcloud) (3.0.9)\n",
      "Requirement already satisfied: fonttools>=4.22.0 in c:\\users\\91767\\anaconda3\\lib\\site-packages (from matplotlib->wordcloud) (4.25.0)\n",
      "Requirement already satisfied: python-dateutil>=2.7 in c:\\users\\91767\\anaconda3\\lib\\site-packages (from matplotlib->wordcloud) (2.8.2)\n",
      "Requirement already satisfied: six>=1.5 in c:\\users\\91767\\anaconda3\\lib\\site-packages (from python-dateutil>=2.7->matplotlib->wordcloud) (1.16.0)\n",
      "Note: you may need to restart the kernel to use updated packages.\n"
     ]
    }
   ],
   "source": [
    "pip install wordcloud"
   ]
  },
  {
   "cell_type": "code",
   "execution_count": 88,
   "id": "731c32d0",
   "metadata": {},
   "outputs": [
    {
     "data": {
      "image/png": "[encoded data removed]",
      "text/plain": [
       "<Figure size 750x750 with 1 Axes>"
      ]
     },
     "metadata": {},
     "output_type": "display_data"
    }
   ],
   "source": [
    "from wordcloud import WordCloud\n",
    "wordcloud = WordCloud(height=2000, width=2000,max_words=100, background_color='white')\n",
    "wordcloud = wordcloud.generate(' '.join(df['cleaned_reviews'].tolist()))\n",
    "plt.figure(figsize=(15,15),dpi=50)\n",
    "plt.imshow(wordcloud)\n",
    "plt.title(\"Most common words in the reviews\")\n",
    "plt.axis('off')\n",
    "plt.show()"
   ]
  },
  {
   "cell_type": "markdown",
   "id": "577787b3",
   "metadata": {},
   "source": [
    "# Sentiment Analysis Using Vader"
   ]
  },
  {
   "cell_type": "code",
   "execution_count": 93,
   "id": "8f2ab92b",
   "metadata": {},
   "outputs": [
    {
     "name": "stderr",
     "output_type": "stream",
     "text": [
      "[nltk_data] Downloading package vader_lexicon to\n",
      "[nltk_data]     C:\\Users\\91767\\AppData\\Roaming\\nltk_data...\n",
      "[nltk_data]   Package vader_lexicon is already up-to-date!\n"
     ]
    },
    {
     "data": {
      "text/plain": [
       "True"
      ]
     },
     "execution_count": 93,
     "metadata": {},
     "output_type": "execute_result"
    }
   ],
   "source": [
    "nltk.download('vader_lexicon')"
   ]
  },
  {
   "cell_type": "code",
   "execution_count": 94,
   "id": "dde38a78",
   "metadata": {},
   "outputs": [],
   "source": [
    "from nltk.sentiment import SentimentIntensityAnalyzer\n",
    "si = SentimentIntensityAnalyzer()"
   ]
  },
  {
   "cell_type": "code",
   "execution_count": 95,
   "id": "b841dc50",
   "metadata": {},
   "outputs": [],
   "source": [
    "#Extracting compound score\n",
    "def sentiment_score(text):\n",
    "    score=si.polarity_scores(text)\n",
    "    return score['compound']"
   ]
  },
  {
   "cell_type": "code",
   "execution_count": 96,
   "id": "9249f57c",
   "metadata": {},
   "outputs": [],
   "source": [
    "df['sentiment_score'] = df['cleaned_reviews'].apply(lambda x: sentiment_score(x))\n"
   ]
  },
  {
   "cell_type": "code",
   "execution_count": 97,
   "id": "bf8b2582",
   "metadata": {},
   "outputs": [
    {
     "data": {
      "text/html": [
       "<div>\n",
       "<style scoped>\n",
       "    .dataframe tbody tr th:only-of-type {\n",
       "        vertical-align: middle;\n",
       "    }\n",
       "\n",
       "    .dataframe tbody tr th {\n",
       "        vertical-align: top;\n",
       "    }\n",
       "\n",
       "    .dataframe thead th {\n",
       "        text-align: right;\n",
       "    }\n",
       "</style>\n",
       "<table border=\"1\" class=\"dataframe\">\n",
       "  <thead>\n",
       "    <tr style=\"text-align: right;\">\n",
       "      <th></th>\n",
       "      <th>Reviews</th>\n",
       "      <th>cleaned_reviews</th>\n",
       "      <th>sentiment_score</th>\n",
       "    </tr>\n",
       "  </thead>\n",
       "  <tbody>\n",
       "    <tr>\n",
       "      <th>0</th>\n",
       "      <td>Microphones on Echo Show are NOT sensitive as Echo Dot. Even response has a bit dealy. Echo Dot is super sensitve and great response. I brought 5 Echo dots and 1 Echo Show. Well timed on Geat India sale 2022. Now my home is fully automated.</td>\n",
       "      <td>microphones echo show sensitive echo dot even response bit dealy echo dot super sensitve great response brought echo dots echo show well timed geat india sale home fully automated</td>\n",
       "      <td>0.8779</td>\n",
       "    </tr>\n",
       "    <tr>\n",
       "      <th>1</th>\n",
       "      <td>Its ok just for entertainment</td>\n",
       "      <td>ok entertainment</td>\n",
       "      <td>0.6124</td>\n",
       "    </tr>\n",
       "    <tr>\n",
       "      <th>2</th>\n",
       "      <td>Good stuff</td>\n",
       "      <td>good stuff</td>\n",
       "      <td>0.4404</td>\n",
       "    </tr>\n",
       "    <tr>\n",
       "      <th>3</th>\n",
       "      <td>Doesn't connect to all devices as advertised</td>\n",
       "      <td>doesnt connect devices advertised</td>\n",
       "      <td>0.0000</td>\n",
       "    </tr>\n",
       "    <tr>\n",
       "      <th>4</th>\n",
       "      <td>It has been about 1.5 years since I m having this and from a few months back, she is having voice recognition problems. She does not listen to “ALEXA” not even at top of my voice. I changed the wake word as well but still facing the issue. Has contacted to the Amazon customer care number but they told me to wait for sometime and then just hung up. That’s not good Amazon</td>\n",
       "      <td>years since months back voice recognition problems listen alexa even top voice changed wake word well still facing issue contacted amazon customer care number told wait sometime hung thats good amazon</td>\n",
       "      <td>0.8402</td>\n",
       "    </tr>\n",
       "  </tbody>\n",
       "</table>\n",
       "</div>"
      ],
      "text/plain": [
       "                                                                                                                                                                                                                                                                                                                                                                                Reviews  \\\n",
       "0                                                                                                                                      Microphones on Echo Show are NOT sensitive as Echo Dot. Even response has a bit dealy. Echo Dot is super sensitve and great response. I brought 5 Echo dots and 1 Echo Show. Well timed on Geat India sale 2022. Now my home is fully automated.   \n",
       "1                                                                                                                                                                                                                                                                                                                                                         Its ok just for entertainment   \n",
       "2                                                                                                                                                                                                                                                                                                                                                                            Good stuff   \n",
       "3                                                                                                                                                                                                                                                                                                                                          Doesn't connect to all devices as advertised   \n",
       "4  It has been about 1.5 years since I m having this and from a few months back, she is having voice recognition problems. She does not listen to “ALEXA” not even at top of my voice. I changed the wake word as well but still facing the issue. Has contacted to the Amazon customer care number but they told me to wait for sometime and then just hung up. That’s not good Amazon   \n",
       "\n",
       "                                                                                                                                                                                            cleaned_reviews  \\\n",
       "0                       microphones echo show sensitive echo dot even response bit dealy echo dot super sensitve great response brought echo dots echo show well timed geat india sale home fully automated   \n",
       "1                                                                                                                                                                                          ok entertainment   \n",
       "2                                                                                                                                                                                                good stuff   \n",
       "3                                                                                                                                                                         doesnt connect devices advertised   \n",
       "4  years since months back voice recognition problems listen alexa even top voice changed wake word well still facing issue contacted amazon customer care number told wait sometime hung thats good amazon   \n",
       "\n",
       "   sentiment_score  \n",
       "0           0.8779  \n",
       "1           0.6124  \n",
       "2           0.4404  \n",
       "3           0.0000  \n",
       "4           0.8402  "
      ]
     },
     "execution_count": 97,
     "metadata": {},
     "output_type": "execute_result"
    }
   ],
   "source": [
    "pd.set_option('max_colwidth', 500)\n",
    "df.head()"
   ]
  },
  {
   "cell_type": "code",
   "execution_count": 98,
   "id": "b32dfa24",
   "metadata": {},
   "outputs": [],
   "source": [
    "## Defining function to assign sentiment category based on sentiment scores\n",
    "## Score Range -0.5 to 0.5 is considered as neutral\n",
    "def sentiment_category(score1):\n",
    "    if(score1 > 0.5):\n",
    "        return 'Positive'\n",
    "    elif(score1 < -0.5):\n",
    "        return 'Negative'\n",
    "    else:\n",
    "        return 'Neutral'"
   ]
  },
  {
   "cell_type": "code",
   "execution_count": 99,
   "id": "46748801",
   "metadata": {},
   "outputs": [],
   "source": [
    "df['sentiment'] = df['sentiment_score'].apply(lambda x:sentiment_category(x))\n"
   ]
  },
  {
   "cell_type": "code",
   "execution_count": 100,
   "id": "02c5894c",
   "metadata": {},
   "outputs": [
    {
     "data": {
      "text/html": [
       "<div>\n",
       "<style scoped>\n",
       "    .dataframe tbody tr th:only-of-type {\n",
       "        vertical-align: middle;\n",
       "    }\n",
       "\n",
       "    .dataframe tbody tr th {\n",
       "        vertical-align: top;\n",
       "    }\n",
       "\n",
       "    .dataframe thead th {\n",
       "        text-align: right;\n",
       "    }\n",
       "</style>\n",
       "<table border=\"1\" class=\"dataframe\">\n",
       "  <thead>\n",
       "    <tr style=\"text-align: right;\">\n",
       "      <th></th>\n",
       "      <th>Reviews</th>\n",
       "      <th>cleaned_reviews</th>\n",
       "      <th>sentiment_score</th>\n",
       "      <th>sentiment</th>\n",
       "    </tr>\n",
       "  </thead>\n",
       "  <tbody>\n",
       "    <tr>\n",
       "      <th>0</th>\n",
       "      <td>Microphones on Echo Show are NOT sensitive as Echo Dot. Even response has a bit dealy. Echo Dot is super sensitve and great response. I brought 5 Echo dots and 1 Echo Show. Well timed on Geat India sale 2022. Now my home is fully automated.</td>\n",
       "      <td>microphones echo show sensitive echo dot even response bit dealy echo dot super sensitve great response brought echo dots echo show well timed geat india sale home fully automated</td>\n",
       "      <td>0.8779</td>\n",
       "      <td>Positive</td>\n",
       "    </tr>\n",
       "    <tr>\n",
       "      <th>1</th>\n",
       "      <td>Its ok just for entertainment</td>\n",
       "      <td>ok entertainment</td>\n",
       "      <td>0.6124</td>\n",
       "      <td>Positive</td>\n",
       "    </tr>\n",
       "    <tr>\n",
       "      <th>2</th>\n",
       "      <td>Good stuff</td>\n",
       "      <td>good stuff</td>\n",
       "      <td>0.4404</td>\n",
       "      <td>Neutral</td>\n",
       "    </tr>\n",
       "    <tr>\n",
       "      <th>3</th>\n",
       "      <td>Doesn't connect to all devices as advertised</td>\n",
       "      <td>doesnt connect devices advertised</td>\n",
       "      <td>0.0000</td>\n",
       "      <td>Neutral</td>\n",
       "    </tr>\n",
       "    <tr>\n",
       "      <th>4</th>\n",
       "      <td>It has been about 1.5 years since I m having this and from a few months back, she is having voice recognition problems. She does not listen to “ALEXA” not even at top of my voice. I changed the wake word as well but still facing the issue. Has contacted to the Amazon customer care number but they told me to wait for sometime and then just hung up. That’s not good Amazon</td>\n",
       "      <td>years since months back voice recognition problems listen alexa even top voice changed wake word well still facing issue contacted amazon customer care number told wait sometime hung thats good amazon</td>\n",
       "      <td>0.8402</td>\n",
       "      <td>Positive</td>\n",
       "    </tr>\n",
       "  </tbody>\n",
       "</table>\n",
       "</div>"
      ],
      "text/plain": [
       "                                                                                                                                                                                                                                                                                                                                                                                Reviews  \\\n",
       "0                                                                                                                                      Microphones on Echo Show are NOT sensitive as Echo Dot. Even response has a bit dealy. Echo Dot is super sensitve and great response. I brought 5 Echo dots and 1 Echo Show. Well timed on Geat India sale 2022. Now my home is fully automated.   \n",
       "1                                                                                                                                                                                                                                                                                                                                                         Its ok just for entertainment   \n",
       "2                                                                                                                                                                                                                                                                                                                                                                            Good stuff   \n",
       "3                                                                                                                                                                                                                                                                                                                                          Doesn't connect to all devices as advertised   \n",
       "4  It has been about 1.5 years since I m having this and from a few months back, she is having voice recognition problems. She does not listen to “ALEXA” not even at top of my voice. I changed the wake word as well but still facing the issue. Has contacted to the Amazon customer care number but they told me to wait for sometime and then just hung up. That’s not good Amazon   \n",
       "\n",
       "                                                                                                                                                                                            cleaned_reviews  \\\n",
       "0                       microphones echo show sensitive echo dot even response bit dealy echo dot super sensitve great response brought echo dots echo show well timed geat india sale home fully automated   \n",
       "1                                                                                                                                                                                          ok entertainment   \n",
       "2                                                                                                                                                                                                good stuff   \n",
       "3                                                                                                                                                                         doesnt connect devices advertised   \n",
       "4  years since months back voice recognition problems listen alexa even top voice changed wake word well still facing issue contacted amazon customer care number told wait sometime hung thats good amazon   \n",
       "\n",
       "   sentiment_score sentiment  \n",
       "0           0.8779  Positive  \n",
       "1           0.6124  Positive  \n",
       "2           0.4404   Neutral  \n",
       "3           0.0000   Neutral  \n",
       "4           0.8402  Positive  "
      ]
     },
     "execution_count": 100,
     "metadata": {},
     "output_type": "execute_result"
    }
   ],
   "source": [
    "df.head()"
   ]
  },
  {
   "cell_type": "code",
   "execution_count": 101,
   "id": "b262d3f2",
   "metadata": {},
   "outputs": [
    {
     "data": {
      "text/plain": [
       "Positive    6\n",
       "Neutral     4\n",
       "Name: sentiment, dtype: int64"
      ]
     },
     "execution_count": 101,
     "metadata": {},
     "output_type": "execute_result"
    }
   ],
   "source": [
    "## calculating the categories of sentiments and their counts\n",
    "df['sentiment'].value_counts()"
   ]
  },
  {
   "cell_type": "code",
   "execution_count": 102,
   "id": "2d8408f6",
   "metadata": {},
   "outputs": [
    {
     "data": {
      "text/plain": [
       "<AxesSubplot:xlabel='sentiment', ylabel='count'>"
      ]
     },
     "execution_count": 102,
     "metadata": {},
     "output_type": "execute_result"
    },
    {
     "data": {
      "image/png": "[encoded data removed]",
      "text/plain": [
       "<Figure size 640x480 with 1 Axes>"
      ]
     },
     "metadata": {},
     "output_type": "display_data"
    }
   ],
   "source": [
    "sns.countplot(x=df['sentiment'])"
   ]
  },
  {
   "cell_type": "code",
   "execution_count": null,
   "id": "a4d03010",
   "metadata": {},
   "outputs": [],
   "source": []
  },
  {
   "cell_type": "code",
   "execution_count": null,
   "id": "122473c6",
   "metadata": {},
   "outputs": [],
   "source": []
  }
 ],
 "metadata": {
  "kernelspec": {
   "display_name": "Python 3 (ipykernel)",
   "language": "python",
   "name": "python3"
  },
  "language_info": {
   "codemirror_mode": {
    "name": "ipython",
    "version": 3
   },
   "file_extension": ".py",
   "mimetype": "text/x-python",
   "name": "python",
   "nbconvert_exporter": "python",
   "pygments_lexer": "ipython3",
   "version": "3.9.13"
  }
 },
 "nbformat": 4,
 "nbformat_minor": 5
}
